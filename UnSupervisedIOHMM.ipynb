{
 "cells": [
  {
   "cell_type": "markdown",
   "metadata": {},
   "source": [
    "Acknowledgement:\n",
    "    1. The structure of the code is inspired by depmixS4: An R Package for Hidden Markov Models: https://cran.r-project.org/web/packages/depmixS4/vignettes/depmixS4.pdf\n",
    "    2. Some of the linear model codes are adapted from sklearn: http://scikit-learn.org/stable/ and statsmodel: http://statsmodels.sourceforge.net/. Some modifications have been made to these codes to realize more functionalities."
   ]
  },
  {
   "cell_type": "markdown",
   "metadata": {},
   "source": [
    "Problems with existing packages\n",
    "    1. Some of sklearn and statsmodels does not support the implementation of sample weights\n",
    "    2. Some of sklearn and statsmodels does not support l1, l2 or elasticnet regularizations\n",
    "    3. Sklearn packages does not support estimation of standard deviation of coefficients\n",
    "    4. The likelihood function of weighted linear models is not the same as the ones we need to use in IO-HMM\n",
    "    5. In the R package aformentioned, they do not support the provision of multiple sequences."
   ]
  },
  {
   "cell_type": "markdown",
   "metadata": {},
   "source": [
    "Modifications to above packages:\n",
    "    1. Implemented supervised models that supports sample weights\n",
    "    2. Supports the estimation of standard deviations of coefficients\n",
    "    3. Supports multiple regularizations (l1, l2, elastic net) in most of the supervised models. (However,  if regularization is applied, no standard deviation of the coefficients will be estimated)\n",
    "    4. Supports estimation over multiple sequences (multiple dataframes)\n",
    "    5. HMM forward-backward code was implemented at the log scale so that it is more robust to long sequences.\n",
    "    6. Supports generalized linear models with different link functions, just as statsmodel."
   ]
  },
  {
   "cell_type": "markdown",
   "metadata": {},
   "source": [
    "# Example use of UnSupervised_IOHMM"
   ]
  },
  {
   "cell_type": "code",
   "execution_count": 1,
   "metadata": {
    "collapsed": false
   },
   "outputs": [],
   "source": [
    "%load_ext autoreload\n",
    "%autoreload 2\n",
    "\n",
    "from __future__ import  division\n",
    "import numpy as np\n",
    "from copy import deepcopy\n",
    "import sys\n",
    "sys.path.append('./main')\n",
    "sys.path.append('./auxiliary')\n",
    "from IOHMM import UnSupervisedIOHMM, UnSupervisedIOHMMMapReduce\n",
    "from SupervisedModels import LM, MNLP, MNLD\n",
    "from scipy.misc import logsumexp\n",
    "import pandas as pd\n",
    "import warnings\n",
    "warnings.simplefilter(\"ignore\")"
   ]
  },
  {
   "cell_type": "markdown",
   "metadata": {},
   "source": [
    "## Speed data - example 1"
   ]
  },
  {
   "cell_type": "code",
   "execution_count": 2,
   "metadata": {
    "collapsed": false
   },
   "outputs": [
    {
     "data": {
      "text/html": [
       "<div>\n",
       "<table border=\"1\" class=\"dataframe\">\n",
       "  <thead>\n",
       "    <tr style=\"text-align: right;\">\n",
       "      <th></th>\n",
       "      <th>Unnamed: 0</th>\n",
       "      <th>rt</th>\n",
       "      <th>corr</th>\n",
       "      <th>Pacc</th>\n",
       "      <th>prev</th>\n",
       "    </tr>\n",
       "  </thead>\n",
       "  <tbody>\n",
       "    <tr>\n",
       "      <th>0</th>\n",
       "      <td>1</td>\n",
       "      <td>6.456770</td>\n",
       "      <td>cor</td>\n",
       "      <td>0.0</td>\n",
       "      <td>inc</td>\n",
       "    </tr>\n",
       "    <tr>\n",
       "      <th>1</th>\n",
       "      <td>2</td>\n",
       "      <td>5.602119</td>\n",
       "      <td>cor</td>\n",
       "      <td>0.0</td>\n",
       "      <td>cor</td>\n",
       "    </tr>\n",
       "    <tr>\n",
       "      <th>2</th>\n",
       "      <td>3</td>\n",
       "      <td>6.253829</td>\n",
       "      <td>inc</td>\n",
       "      <td>0.0</td>\n",
       "      <td>cor</td>\n",
       "    </tr>\n",
       "    <tr>\n",
       "      <th>3</th>\n",
       "      <td>4</td>\n",
       "      <td>5.451038</td>\n",
       "      <td>inc</td>\n",
       "      <td>0.0</td>\n",
       "      <td>inc</td>\n",
       "    </tr>\n",
       "    <tr>\n",
       "      <th>4</th>\n",
       "      <td>5</td>\n",
       "      <td>5.872118</td>\n",
       "      <td>inc</td>\n",
       "      <td>0.0</td>\n",
       "      <td>inc</td>\n",
       "    </tr>\n",
       "  </tbody>\n",
       "</table>\n",
       "</div>"
      ],
      "text/plain": [
       "   Unnamed: 0        rt corr  Pacc prev\n",
       "0           1  6.456770  cor   0.0  inc\n",
       "1           2  5.602119  cor   0.0  cor\n",
       "2           3  6.253829  inc   0.0  cor\n",
       "3           4  5.451038  inc   0.0  inc\n",
       "4           5  5.872118  inc   0.0  inc"
      ]
     },
     "execution_count": 2,
     "metadata": {},
     "output_type": "execute_result"
    }
   ],
   "source": [
    "speed = pd.read_csv('data/speed.csv')\n",
    "speed.head()"
   ]
  },
  {
   "cell_type": "markdown",
   "metadata": {},
   "source": [
    "## Setting up the model"
   ]
  },
  {
   "cell_type": "code",
   "execution_count": 3,
   "metadata": {
    "collapsed": false
   },
   "outputs": [],
   "source": [
    "SHMM = UnSupervisedIOHMM(num_states=2, max_EM_iter=1000, EM_tol=1e-2)\n",
    "SHMM.setModels(model_emissions = [LM()], model_transition=MNLP(solver='lbfgs'))\n",
    "SHMM.setInputs(covariates_initial = [], covariates_transition = [], covariates_emissions = [[]])\n",
    "SHMM.setOutputs([['rt']])\n",
    "SHMM.setData([speed])"
   ]
  },
  {
   "cell_type": "code",
   "execution_count": 4,
   "metadata": {
    "collapsed": false,
    "scrolled": true
   },
   "outputs": [
    {
     "name": "stdout",
     "output_type": "stream",
     "text": [
      "-305.300566605\n",
      "-305.216162094\n",
      "-305.162269755\n",
      "-305.084300162\n",
      "-304.95789699\n",
      "-304.752239908\n",
      "-304.39123161\n",
      "-303.600197211\n",
      "-301.73925858\n",
      "-295.148884087\n",
      "-273.016305927\n",
      "-199.390609561\n",
      "-110.701760328\n",
      "-93.0289858768\n",
      "-92.4321980066\n",
      "-92.404432368\n",
      "-92.4174791498\n",
      "-92.4356121371\n",
      "-92.4559823475\n",
      "-92.4720757993\n",
      "-92.4847667687\n",
      "-92.4945053257\n"
     ]
    }
   ],
   "source": [
    "SHMM.train()"
   ]
  },
  {
   "cell_type": "markdown",
   "metadata": {},
   "source": [
    "## See the coefficients"
   ]
  },
  {
   "cell_type": "code",
   "execution_count": 5,
   "metadata": {
    "collapsed": false
   },
   "outputs": [
    {
     "name": "stdout",
     "output_type": "stream",
     "text": [
      "[[ 0.91035447  0.08964553]]\n",
      "[[ 0.19955373  0.80044627]]\n"
     ]
    }
   ],
   "source": [
    "print np.exp(SHMM.model_transition[0].coef - logsumexp(SHMM.model_transition[0].coef))\n",
    "print np.exp(SHMM.model_transition[1].coef - logsumexp(SHMM.model_transition[1].coef))"
   ]
  },
  {
   "cell_type": "code",
   "execution_count": 6,
   "metadata": {
    "collapsed": false
   },
   "outputs": [
    {
     "name": "stdout",
     "output_type": "stream",
     "text": [
      "[ 6.38013614]\n",
      "[ 5.5021878]\n"
     ]
    }
   ],
   "source": [
    "print SHMM.model_emissions[0][0].coef\n",
    "print SHMM.model_emissions[1][0].coef"
   ]
  },
  {
   "cell_type": "code",
   "execution_count": 7,
   "metadata": {
    "collapsed": false
   },
   "outputs": [
    {
     "name": "stdout",
     "output_type": "stream",
     "text": [
      "0.247034141013\n",
      "0.182740623875\n"
     ]
    }
   ],
   "source": [
    "print np.sqrt(SHMM.model_emissions[0][0].dispersion)\n",
    "print np.sqrt(SHMM.model_emissions[1][0].dispersion)"
   ]
  },
  {
   "cell_type": "markdown",
   "metadata": {},
   "source": [
    "## Speed data - example 2"
   ]
  },
  {
   "cell_type": "code",
   "execution_count": 8,
   "metadata": {
    "collapsed": false
   },
   "outputs": [],
   "source": [
    "SHMM = UnSupervisedIOHMM(num_states=2, max_EM_iter=1000, EM_tol=1e-2)\n",
    "SHMM.setModels(model_emissions = [LM(est_sd = True), MNLD(est_sd=True)], model_transition=MNLP(solver='lbfgs'))\n",
    "SHMM.setInputs(covariates_initial = [], covariates_transition = [], covariates_emissions = [[],['Pacc']])\n",
    "SHMM.setOutputs([['rt'],['corr']])\n",
    "SHMM.setData([speed])"
   ]
  },
  {
   "cell_type": "code",
   "execution_count": 9,
   "metadata": {
    "collapsed": false,
    "scrolled": true
   },
   "outputs": [
    {
     "name": "stdout",
     "output_type": "stream",
     "text": [
      "-530.302930865\n",
      "-530.239310475\n",
      "-530.19737629\n",
      "-530.158889512\n",
      "-530.080562677\n",
      "-530.01226267\n",
      "-529.935550104\n",
      "-529.836044223\n",
      "-529.710366291\n",
      "-529.55033268\n",
      "-529.349383019\n",
      "-529.093506793\n",
      "-528.768858181\n",
      "-528.334012945\n",
      "-527.745305345\n",
      "-526.3924036\n",
      "-524.998526809\n",
      "-521.857759258\n",
      "-515.613507632\n",
      "-504.1744234\n",
      "-474.563032703\n",
      "-398.004513767\n",
      "-323.779208179\n",
      "-302.338755714\n",
      "-301.538015872\n",
      "-300.449032716\n",
      "-302.679593328\n",
      "-302.569697692\n",
      "-302.542928588\n",
      "-302.543635379\n"
     ]
    }
   ],
   "source": [
    "SHMM.train()"
   ]
  },
  {
   "cell_type": "code",
   "execution_count": 10,
   "metadata": {
    "collapsed": false
   },
   "outputs": [
    {
     "name": "stdout",
     "output_type": "stream",
     "text": [
      "[[ 0.9082254  0.0917746]]\n",
      "[[ 0.19758471  0.80241529]]\n"
     ]
    }
   ],
   "source": [
    "print np.exp(SHMM.model_transition[0].coef - logsumexp(SHMM.model_transition[0].coef))\n",
    "print np.exp(SHMM.model_transition[1].coef - logsumexp(SHMM.model_transition[1].coef))"
   ]
  },
  {
   "cell_type": "code",
   "execution_count": 11,
   "metadata": {
    "collapsed": false
   },
   "outputs": [
    {
     "name": "stdout",
     "output_type": "stream",
     "text": [
      "[ 6.38524675]\n",
      "[[ 0.         -1.07886847]\n",
      " [ 0.         -2.2852737 ]]\n",
      "[ 5.50910848]\n",
      "[[ 0.         -0.22113384]\n",
      " [ 0.          0.62337172]]\n"
     ]
    }
   ],
   "source": [
    "print SHMM.model_emissions[0][0].coef\n",
    "print SHMM.model_emissions[0][1].coef\n",
    "print SHMM.model_emissions[1][0].coef\n",
    "print SHMM.model_emissions[1][1].coef"
   ]
  },
  {
   "cell_type": "code",
   "execution_count": 12,
   "metadata": {
    "collapsed": false
   },
   "outputs": [
    {
     "name": "stdout",
     "output_type": "stream",
     "text": [
      "[ 0.01499167]\n",
      "[[ 0.          0.38522395]\n",
      " [ 0.          0.81187156]]\n",
      "[ 0.01397556]\n",
      "[[ 0.          0.15889428]\n",
      " [ 0.          0.73585989]]\n"
     ]
    }
   ],
   "source": [
    "print SHMM.model_emissions[0][0].sd\n",
    "print SHMM.model_emissions[0][1].sd\n",
    "print SHMM.model_emissions[1][0].sd\n",
    "print SHMM.model_emissions[1][1].sd"
   ]
  },
  {
   "cell_type": "markdown",
   "metadata": {
    "collapsed": true
   },
   "source": [
    "## MapReduce Version"
   ]
  },
  {
   "cell_type": "code",
   "execution_count": 13,
   "metadata": {
    "collapsed": false
   },
   "outputs": [],
   "source": [
    "sc.stop()\n",
    "sc = SparkContext(appName=\"\", pyFiles=[\n",
    "    './auxiliary/HMM.py',\n",
    "    './auxiliary/SupervisedModels.py',\n",
    "    './auxiliary/family.py',\n",
    "    './main/IOHMM.py'])"
   ]
  },
  {
   "cell_type": "code",
   "execution_count": 14,
   "metadata": {
    "collapsed": false
   },
   "outputs": [],
   "source": [
    "speed = pd.read_csv('data/speed.csv', index_col=0)\n",
    "indexes = [(1,1), (2,1)]\n",
    "RDD = sc.parallelize(indexes)\n",
    "dfs = RDD.mapValues(lambda v: speed)"
   ]
  },
  {
   "cell_type": "code",
   "execution_count": 15,
   "metadata": {
    "collapsed": false
   },
   "outputs": [],
   "source": [
    "SHMM = UnSupervisedIOHMMMapReduce(num_states=2, max_EM_iter=100, EM_tol=1e-4)\n",
    "SHMM.setModels(model_emissions = [LM()], model_transition=MNLP(solver='lbfgs'))\n",
    "SHMM.setInputs(covariates_initial = [], covariates_transition = [], covariates_emissions = [[]])\n",
    "SHMM.setOutputs([['rt']])\n",
    "SHMM.setData(dfs)"
   ]
  },
  {
   "cell_type": "code",
   "execution_count": 16,
   "metadata": {
    "collapsed": false,
    "scrolled": true
   },
   "outputs": [
    {
     "name": "stdout",
     "output_type": "stream",
     "text": [
      "-607.883265242\n",
      "-595.478995517\n",
      "-473.565132683\n",
      "-256.505414778\n",
      "-188.506919208\n",
      "-180.14018665\n",
      "-178.433063289\n",
      "-177.919713522\n",
      "-177.675977268\n",
      "-177.57622844\n",
      "-177.538977247\n",
      "-177.525250495\n",
      "-177.519969055\n",
      "-177.517794445\n",
      "-177.516827105\n",
      "-177.516365078\n",
      "-177.516131813\n",
      "-177.516009449\n",
      "-177.515943685\n",
      "done\n"
     ]
    }
   ],
   "source": [
    "SHMM.train()\n",
    "print 'done'"
   ]
  },
  {
   "cell_type": "code",
   "execution_count": 17,
   "metadata": {
    "collapsed": true
   },
   "outputs": [],
   "source": [
    "sc.stop()"
   ]
  },
  {
   "cell_type": "code",
   "execution_count": null,
   "metadata": {
    "collapsed": true
   },
   "outputs": [],
   "source": []
  }
 ],
 "metadata": {
  "kernelspec": {
   "display_name": "Python 2",
   "language": "python",
   "name": "python2"
  },
  "language_info": {
   "codemirror_mode": {
    "name": "ipython",
    "version": 2
   },
   "file_extension": ".py",
   "mimetype": "text/x-python",
   "name": "python",
   "nbconvert_exporter": "python",
   "pygments_lexer": "ipython2",
   "version": "2.7.13"
  }
 },
 "nbformat": 4,
 "nbformat_minor": 0
}
