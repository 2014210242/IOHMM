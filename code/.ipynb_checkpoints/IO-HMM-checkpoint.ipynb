{
 "cells": [
  {
   "cell_type": "markdown",
   "metadata": {},
   "source": [
    "Acknowledgement:\n",
    "    1. The structure of the code is inspired by depmixS4: An R Package for Hidden Markov Models: https://cran.r-project.org/web/packages/depmixS4/vignettes/depmixS4.pdf\n",
    "    2. Some of the linear model codes are adapted from sklearn: http://scikit-learn.org/stable/ and statsmodel: http://statsmodels.sourceforge.net/. Some modifications have been made to these codes to realize more functionalities."
   ]
  },
  {
   "cell_type": "markdown",
   "metadata": {},
   "source": [
    "Problems with existing packages\n",
    "    1. Some of sklearn and statsmodels does not support the implementation of sample weights\n",
    "    2. Some of sklearn and statsmodels does not support l1, l2 or elasticnet regularizations\n",
    "    3. Sklearn packages does not support estimation of standard deviation of coefficients\n",
    "    4. The likelihood function of weighted linear models is not the same as the ones we need to use in IO-HMM\n",
    "    5. In the R package aformentioned, they do not support the provision of multiple sequences."
   ]
  },
  {
   "cell_type": "markdown",
   "metadata": {},
   "source": [
    "Modifications to above packages:\n",
    "    1. Implemented supervised models that supports sample weights\n",
    "    2. Supports the estimation of standard deviations of coefficients\n",
    "    3. Supports multiple regularizations (l1, l2, elastic net) in most of the supervised models. (However,  if regularization is applied, no standard deviation of the coefficients will be estimated)\n",
    "    4. Supports estimation over multiple sequences (multiple dataframes)\n",
    "    5. HMM forward-backward code was implemented at the log scale so that it is more robust to long sequences.\n",
    "    6. Supports generalized linear models with different link functions, just as statsmodel."
   ]
  },
  {
   "cell_type": "code",
   "execution_count": 1,
   "metadata": {
    "collapsed": false
   },
   "outputs": [],
   "source": [
    "from __future__ import  division\n",
    "import sys\n",
    "sys.path.append('./auxiliary')\n",
    "import numpy as np\n",
    "from copy import deepcopy\n",
    "from SupervisedModels import *\n",
    "from HMM import *\n",
    "import pandas as pd\n",
    "import warnings\n",
    "warnings.simplefilter(\"ignore\")"
   ]
  },
  {
   "cell_type": "code",
   "execution_count": 2,
   "metadata": {
    "collapsed": false
   },
   "outputs": [],
   "source": [
    "class SupervisedHMM:\n",
    "    def __init__(self, num_states = 2, EM_tol = 1e-4, max_EM_iter = 100):\n",
    "        self.num_states = num_states\n",
    "        self.EM_tol = EM_tol\n",
    "        self.max_EM_iter = max_EM_iter\n",
    "        \n",
    "    def setModels(self, model_emissions, model_initial = MNLP(), model_transition = MNLP()):\n",
    "        # initial model and transition model must be MNLP\n",
    "        self.model_initial = model_initial\n",
    "        self.model_transition = [deepcopy(model_transition) for i in range(self.num_states)]\n",
    "        self.model_emissions = [deepcopy(model_emissions) for i in range(self.num_states)]\n",
    "        self.num_emissions = len(model_emissions)\n",
    "    \n",
    "    def setData(self, dfs):\n",
    "        self.num_seqs = len(dfs)\n",
    "        self.dfs = dfs\n",
    "        \n",
    "    \n",
    "    def setInputs(self, covariates_initial, covariates_transition, covariates_emissions):\n",
    "        # input should be a list inidicating the columns of the dataframe\n",
    "        self.inp_initials = [np.array(df[covariates_initial].iloc[0]).reshape(1,-1).astype('float64') for df in self.dfs]\n",
    "        self.inp_initials_all_users = np.vstack(self.inp_initials)\n",
    "        self.model_initial.coef = np.zeros((self.inp_initials_all_users.shape[1]+self.model_initial.fit_intercept,self.num_states))\n",
    "        self.model_initial.coef = np.random.rand(self.inp_initials_all_users.shape[1]+self.model_initial.fit_intercept,self.num_states)\n",
    "        \n",
    "        self.inp_transitions = [np.array(df[covariates_transition].iloc[1:]).astype('float64') for df in self.dfs]\n",
    "        self.inp_transitions_all_users = np.vstack(self.inp_transitions)\n",
    "        \n",
    "        for st in range(self.num_states):\n",
    "            self.model_transition[st].coef = np.zeros((self.inp_transitions_all_users.shape[1]+self.model_transition[st].fit_intercept,self.num_states))\n",
    "            self.model_transition[st].coef = np.random.rand(self.inp_transitions_all_users.shape[1]+self.model_transition[st].fit_intercept,self.num_states)\n",
    "        self.inp_emissions = []\n",
    "        self.inp_emissions_all_users = []\n",
    "        for cov in covariates_emissions:\n",
    "            self.inp_emissions.append([np.array(df[cov]).astype('float64') for df in self.dfs])\n",
    "        for covs in self.inp_emissions:\n",
    "            self.inp_emissions_all_users.append(np.vstack(covs))\n",
    "        \n",
    "        \n",
    "    \n",
    "    def setOutputs(self, responses_emissions):\n",
    "        # output should be a list inidicating the columns of the dataframe\n",
    "        self.out_emissions = []\n",
    "        self.out_emissions_all_users = []\n",
    "        for res in responses_emissions:\n",
    "            self.out_emissions.append([np.array(df[res]) for df in self.dfs])\n",
    "        for ress in self.out_emissions:\n",
    "            self.out_emissions_all_users.append(np.vstack(ress))\n",
    "        for i in range(self.num_states):\n",
    "            for j in range(self.num_emissions):\n",
    "                if isinstance(self.model_emissions[i][j], GLM):\n",
    "                    self.model_emissions[i][j].coef = np.random.rand(self.inp_emissions_all_users[j].shape[1]+self.model_emissions[i][j].fit_intercept,)\n",
    "                    self.model_emissions[i][j].dispersion = 1\n",
    "                if isinstance(self.model_emissions[i][j], LM):\n",
    "                    if len(responses_emissions[j]) == 1:\n",
    "                        self.model_emissions[i][j].coef = np.random.rand(self.inp_emissions_all_users[j].shape[1]+self.model_emissions[i][j].fit_intercept,)\n",
    "                        self.model_emissions[i][j].dispersion = 1\n",
    "                    else:\n",
    "                        self.model_emissions[i][j].coef = np.random.rand(self.inp_emissions_all_users[j].shape[1]+self.model_emissions[i][j].fit_intercept, len(responses_emissions[j]))\n",
    "                        self.model_emissions[i][j].dispersion = np.eye(len(responses_emissions[j]))\n",
    "                if isinstance(self.model_emissions[i][j], MNLD):\n",
    "                    self.model_emissions[i][j].coef = np.random.rand(self.inp_emissions_all_users[j].shape[1]+self.model_emissions[i][j].fit_intercept,np.unique(self.out_emissions_all_users[j]).shape[0])\n",
    "                    self.model_emissions[i][j].lb = LabelBinarizer().fit(self.out_emissions_all_users[j])\n",
    "                if isinstance(self.model_emissions[i][j], MNLP):\n",
    "                    self.model_emissions[i][j].coef = np.random.rand(self.inp_emissions_all_users[j].shape[1]+self.model_emissions[i][j].fit_intercept,len(responses_emissions[j]))\n",
    "    def EStep(self):\n",
    "        self.log_gammas = []\n",
    "        self.log_epsilons = []\n",
    "        self.lls = []\n",
    "        \n",
    "        for seq in range(self.num_seqs):\n",
    "            n_records = self.dfs[seq].shape[0]\n",
    "            log_prob_initial = self.model_initial.predict_log_probability(self.inp_initials[seq]).reshape(self.num_states,)\n",
    "            assert log_prob_initial.shape == (self.num_states,)\n",
    "            log_prob_transition = np.zeros((n_records - 1, self.num_states, self.num_states))\n",
    "            for st in range(self.num_states):\n",
    "                 log_prob_transition[:,st,:] = self.model_transition[st].predict_log_probability(self.inp_transitions[seq]) \n",
    "            assert log_prob_transition.shape == (n_records-1,self.num_states,self.num_states)\n",
    "            \n",
    "            log_Ey = np.zeros((n_records,self.num_states))\n",
    "            for emis in range(self.num_emissions):\n",
    "                model_collection = [models[emis] for models in self.model_emissions]\n",
    "                log_Ey += np.vstack([model.log_probability(self.inp_emissions[emis][seq],\n",
    "                                                           self.out_emissions[emis][seq]) for model in model_collection]).T\n",
    "\n",
    "            \n",
    "            log_gamma, log_epsilon, ll = calHMM(log_prob_initial, log_prob_transition, log_Ey)\n",
    "            self.log_gammas.append(log_gamma)\n",
    "            self.log_epsilons.append(log_epsilon)\n",
    "            self.lls.append(ll)\n",
    "            self.ll = sum(self.lls)\n",
    "\n",
    "        \n",
    "    def MStep(self):\n",
    "        # optimize initial model\n",
    "        X = self.inp_initials_all_users\n",
    "        Y = np.exp(np.vstack([lg[0,:].reshape(1,-1) for lg in self.log_gammas]))\n",
    "        logY = np.vstack([lg[0,:].reshape(1,-1) for lg in self.log_gammas])\n",
    "        self.model_initial.fit(X, Y)\n",
    "        \n",
    "        # optimize transition models\n",
    "        X = self.inp_transitions_all_users\n",
    "        for st in range(self.num_states):\n",
    "            Y = np.exp(np.vstack([eps[:,st,:] for eps in self.log_epsilons]))\n",
    "            logY = np.vstack([eps[:,st,:] for eps in self.log_epsilons])\n",
    "            self.model_transition[st].fit(X, Y)\n",
    "        \n",
    "        # optimize emission models\n",
    "        for emis in range(self.num_emissions):\n",
    "            X = self.inp_emissions_all_users[emis]\n",
    "            Y = self.out_emissions_all_users[emis]\n",
    "            for st in range(self.num_states):\n",
    "                sample_weight = np.exp(np.hstack([lg[:,st] for lg in self.log_gammas]))\n",
    "                self.model_emissions[st][emis].fit(X, Y, sample_weight = sample_weight)\n",
    "        \n",
    "    \n",
    "    def train(self):\n",
    "        self.EStep()\n",
    "        for it in range(self.max_EM_iter):\n",
    "            prev_ll = self.ll\n",
    "            self.MStep()\n",
    "            self.EStep()\n",
    "            print self.ll\n",
    "            if abs(self.ll-prev_ll) < self.EM_tol:\n",
    "                break\n",
    "\n",
    "        self.converged = it < self.max_EM_iter"
   ]
  },
  {
   "cell_type": "markdown",
   "metadata": {},
   "source": [
    "## Example use of SupervisedHMM "
   ]
  },
  {
   "cell_type": "markdown",
   "metadata": {},
   "source": [
    "## Speed data - example 1"
   ]
  },
  {
   "cell_type": "code",
   "execution_count": 3,
   "metadata": {
    "collapsed": false
   },
   "outputs": [
    {
     "name": "stdout",
     "output_type": "stream",
     "text": [
      "   Unnamed: 0        rt corr  Pacc prev\n",
      "0           1  6.456770  cor     0  inc\n",
      "1           2  5.602119  cor     0  cor\n",
      "2           3  6.253829  inc     0  cor\n",
      "3           4  5.451038  inc     0  inc\n",
      "4           5  5.872118  inc     0  inc\n"
     ]
    }
   ],
   "source": [
    "speed = pd.read_csv('data/speed.csv')\n",
    "print speed.head()"
   ]
  },
  {
   "cell_type": "code",
   "execution_count": 4,
   "metadata": {
    "collapsed": false
   },
   "outputs": [],
   "source": [
    "SHMM = SupervisedHMM(num_states=2, max_EM_iter=1000, EM_tol=1e-2)\n",
    "SHMM.setData([speed])\n",
    "SHMM.setModels(model_emissions = [LM()], model_transition=MNLP(solver='lbfgs'))\n",
    "SHMM.setInputs(covariates_initial = [], covariates_transition = [], covariates_emissions = [[]])\n",
    "SHMM.setOutputs([['rt']])"
   ]
  },
  {
   "cell_type": "code",
   "execution_count": 5,
   "metadata": {
    "collapsed": false,
    "scrolled": false
   },
   "outputs": [
    {
     "name": "stdout",
     "output_type": "stream",
     "text": [
      "-304.967707628\n",
      "-300.126522124\n",
      "-209.707432953\n",
      "-116.860572885\n",
      "-98.0080105242\n",
      "-92.20742099\n",
      "-93.6316674316\n",
      "-93.2970971619\n",
      "-93.1043661342\n",
      "-92.9640924882\n",
      "-92.8588034038\n",
      "-92.7712075589\n",
      "-92.7020120147\n",
      "-92.6490833225\n",
      "-92.6141501292\n",
      "-92.5893474682\n",
      "-92.5715809014\n",
      "-92.5588075177\n",
      "-92.5495949836\n"
     ]
    }
   ],
   "source": [
    "SHMM.train()"
   ]
  },
  {
   "cell_type": "code",
   "execution_count": 6,
   "metadata": {
    "collapsed": false
   },
   "outputs": [
    {
     "name": "stdout",
     "output_type": "stream",
     "text": [
      "[[ 0.79973075  0.20026925]]\n",
      "[[ 0.09031974  0.90968026]]\n"
     ]
    }
   ],
   "source": [
    "print np.exp(SHMM.model_transition[0].coef - logsumexp(SHMM.model_transition[0].coef))\n",
    "print np.exp(SHMM.model_transition[1].coef - logsumexp(SHMM.model_transition[1].coef))"
   ]
  },
  {
   "cell_type": "code",
   "execution_count": 7,
   "metadata": {
    "collapsed": false
   },
   "outputs": [
    {
     "name": "stdout",
     "output_type": "stream",
     "text": [
      "[ 5.50073767]\n",
      "[ 6.37911537]\n"
     ]
    }
   ],
   "source": [
    "print SHMM.model_emissions[0][0].coef\n",
    "print SHMM.model_emissions[1][0].coef"
   ]
  },
  {
   "cell_type": "code",
   "execution_count": 8,
   "metadata": {
    "collapsed": false
   },
   "outputs": [
    {
     "name": "stdout",
     "output_type": "stream",
     "text": [
      "0.181192275762\n",
      "0.247751770062\n"
     ]
    }
   ],
   "source": [
    "print np.sqrt(SHMM.model_emissions[0][0].dispersion)\n",
    "print np.sqrt(SHMM.model_emissions[1][0].dispersion)"
   ]
  },
  {
   "cell_type": "markdown",
   "metadata": {},
   "source": [
    "## Speed data - example 2"
   ]
  },
  {
   "cell_type": "code",
   "execution_count": 9,
   "metadata": {
    "collapsed": false
   },
   "outputs": [],
   "source": [
    "SHMM = SupervisedHMM(num_states=2, max_EM_iter=1000, EM_tol=1e-2)\n",
    "SHMM.setData([speed])\n",
    "SHMM.setModels(model_emissions = [LM(), MNLD()], model_transition=MNLP(solver='lbfgs'))\n",
    "SHMM.setInputs(covariates_initial = [], covariates_transition = [], covariates_emissions = [[],['Pacc']])\n",
    "SHMM.setOutputs([['rt'],['corr']])"
   ]
  },
  {
   "cell_type": "code",
   "execution_count": 10,
   "metadata": {
    "collapsed": false,
    "scrolled": true
   },
   "outputs": [
    {
     "name": "stdout",
     "output_type": "stream",
     "text": [
      "-530.213735093\n",
      "-530.131032604\n",
      "-529.921473159\n",
      "-529.378096546\n",
      "-527.935758166\n",
      "-523.994125101\n",
      "-512.520318472\n",
      "-477.39723598\n",
      "-391.932685423\n",
      "-315.190560792\n",
      "-301.340382027\n",
      "-301.189884825\n",
      "-300.331692368\n",
      "-302.639497483\n",
      "-302.558930425\n",
      "-302.541309575\n",
      "-302.54500012\n"
     ]
    }
   ],
   "source": [
    "SHMM.train()"
   ]
  },
  {
   "cell_type": "code",
   "execution_count": 11,
   "metadata": {
    "collapsed": false
   },
   "outputs": [
    {
     "name": "stdout",
     "output_type": "stream",
     "text": [
      "[[ 0.80233252  0.19766748]]\n",
      "[[ 0.09182311  0.90817689]]\n"
     ]
    }
   ],
   "source": [
    "print np.exp(SHMM.model_transition[0].coef - logsumexp(SHMM.model_transition[0].coef))\n",
    "print np.exp(SHMM.model_transition[1].coef - logsumexp(SHMM.model_transition[1].coef))"
   ]
  },
  {
   "cell_type": "code",
   "execution_count": 12,
   "metadata": {
    "collapsed": false
   },
   "outputs": [
    {
     "name": "stdout",
     "output_type": "stream",
     "text": [
      "[ 5.50889158]\n",
      "[[ 0.         -0.22113566]\n",
      " [ 0.          0.62354663]]\n",
      "[ 6.3850958]\n",
      "[[ 0.         -1.07521111]\n",
      " [ 0.         -2.29139483]]\n"
     ]
    }
   ],
   "source": [
    "print SHMM.model_emissions[0][0].coef\n",
    "print SHMM.model_emissions[0][1].coef\n",
    "print SHMM.model_emissions[1][0].coef\n",
    "print SHMM.model_emissions[1][1].coef"
   ]
  },
  {
   "cell_type": "code",
   "execution_count": 13,
   "metadata": {
    "collapsed": false
   },
   "outputs": [
    {
     "name": "stdout",
     "output_type": "stream",
     "text": [
      "[ 0.01396216]\n",
      "[[ 0.          0.15889228]\n",
      " [ 0.          0.73586111]]\n",
      "[ 0.01499541]\n",
      "[[ 0.          0.38471748]\n",
      " [ 0.          0.81122847]]\n"
     ]
    }
   ],
   "source": [
    "print SHMM.model_emissions[0][0].sd\n",
    "print SHMM.model_emissions[0][1].sd\n",
    "print SHMM.model_emissions[1][0].sd\n",
    "print SHMM.model_emissions[1][1].sd"
   ]
  }
 ],
 "metadata": {
  "kernelspec": {
   "display_name": "Python 2",
   "language": "python",
   "name": "python2"
  },
  "language_info": {
   "codemirror_mode": {
    "name": "ipython",
    "version": 2
   },
   "file_extension": ".py",
   "mimetype": "text/x-python",
   "name": "python",
   "nbconvert_exporter": "python",
   "pygments_lexer": "ipython2",
   "version": "2.7.11"
  }
 },
 "nbformat": 4,
 "nbformat_minor": 0
}
