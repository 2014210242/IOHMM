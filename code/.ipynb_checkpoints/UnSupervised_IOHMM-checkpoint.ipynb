{
 "cells": [
  {
   "cell_type": "markdown",
   "metadata": {},
   "source": [
    "Acknowledgement:\n",
    "    1. The structure of the code is inspired by depmixS4: An R Package for Hidden Markov Models: https://cran.r-project.org/web/packages/depmixS4/vignettes/depmixS4.pdf\n",
    "    2. Some of the linear model codes are adapted from sklearn: http://scikit-learn.org/stable/ and statsmodel: http://statsmodels.sourceforge.net/. Some modifications have been made to these codes to realize more functionalities."
   ]
  },
  {
   "cell_type": "markdown",
   "metadata": {},
   "source": [
    "Problems with existing packages\n",
    "    1. Some of sklearn and statsmodels does not support the implementation of sample weights\n",
    "    2. Some of sklearn and statsmodels does not support l1, l2 or elasticnet regularizations\n",
    "    3. Sklearn packages does not support estimation of standard deviation of coefficients\n",
    "    4. The likelihood function of weighted linear models is not the same as the ones we need to use in IO-HMM\n",
    "    5. In the R package aformentioned, they do not support the provision of multiple sequences."
   ]
  },
  {
   "cell_type": "markdown",
   "metadata": {},
   "source": [
    "Modifications to above packages:\n",
    "    1. Implemented supervised models that supports sample weights\n",
    "    2. Supports the estimation of standard deviations of coefficients\n",
    "    3. Supports multiple regularizations (l1, l2, elastic net) in most of the supervised models. (However,  if regularization is applied, no standard deviation of the coefficients will be estimated)\n",
    "    4. Supports estimation over multiple sequences (multiple dataframes)\n",
    "    5. HMM forward-backward code was implemented at the log scale so that it is more robust to long sequences.\n",
    "    6. Supports generalized linear models with different link functions, just as statsmodel."
   ]
  },
  {
   "cell_type": "markdown",
   "metadata": {},
   "source": [
    "# Example use of UnSupervised_IOHMM"
   ]
  },
  {
   "cell_type": "code",
   "execution_count": 1,
   "metadata": {
    "collapsed": false
   },
   "outputs": [],
   "source": [
    "from __future__ import  division\n",
    "import numpy as np\n",
    "from copy import deepcopy\n",
    "import sys\n",
    "sys.path.append('./main')\n",
    "sys.path.append('./auxiliary')\n",
    "from UnSupervised_IOHMM import *\n",
    "import pandas as pd\n",
    "import warnings\n",
    "warnings.simplefilter(\"ignore\")"
   ]
  },
  {
   "cell_type": "markdown",
   "metadata": {},
   "source": [
    "## Speed data - example 1"
   ]
  },
  {
   "cell_type": "code",
   "execution_count": 2,
   "metadata": {
    "collapsed": false
   },
   "outputs": [
    {
     "name": "stdout",
     "output_type": "stream",
     "text": [
      "   Unnamed: 0        rt corr  Pacc prev\n",
      "0           1  6.456770  cor     0  inc\n",
      "1           2  5.602119  cor     0  cor\n",
      "2           3  6.253829  inc     0  cor\n",
      "3           4  5.451038  inc     0  inc\n",
      "4           5  5.872118  inc     0  inc\n"
     ]
    }
   ],
   "source": [
    "speed = pd.read_csv('data/speed.csv')\n",
    "print speed.head()"
   ]
  },
  {
   "cell_type": "markdown",
   "metadata": {},
   "source": [
    "## Setting up the model"
   ]
  },
  {
   "cell_type": "code",
   "execution_count": 3,
   "metadata": {
    "collapsed": false
   },
   "outputs": [],
   "source": [
    "SHMM = UnSupervisedIOHMM(num_states=2, max_EM_iter=1000, EM_tol=1e-2)\n",
    "SHMM.setData([speed])\n",
    "SHMM.setModels(model_emissions = [LM()], model_transition=MNLP(solver='lbfgs'))\n",
    "SHMM.setInputs(covariates_initial = [], covariates_transition = [], covariates_emissions = [[]])\n",
    "SHMM.setOutputs([['rt']])"
   ]
  },
  {
   "cell_type": "code",
   "execution_count": 4,
   "metadata": {
    "collapsed": false,
    "scrolled": false
   },
   "outputs": [
    {
     "name": "stdout",
     "output_type": "stream",
     "text": [
      "-305.268228156\n",
      "-305.241988598\n",
      "-305.189195574\n",
      "-305.144573993\n",
      "-305.077500566\n",
      "-304.975680217\n",
      "-304.684848662\n",
      "-303.947173442\n",
      "-299.71363203\n",
      "-272.257671713\n",
      "-168.568475593\n",
      "-103.607115405\n",
      "-94.2959367973\n",
      "-93.608806763\n",
      "-93.231400714\n",
      "-93.0519022222\n",
      "-92.9242718642\n",
      "-92.8290713891\n",
      "-92.7491589849\n",
      "-92.6858652218\n",
      "-92.6374658413\n",
      "-92.6058223827\n",
      "-92.5833759329\n",
      "-92.5672901764\n",
      "-92.5557157758\n",
      "-92.5473605188\n"
     ]
    }
   ],
   "source": [
    "SHMM.train()"
   ]
  },
  {
   "cell_type": "markdown",
   "metadata": {},
   "source": [
    "## See the coefficients"
   ]
  },
  {
   "cell_type": "code",
   "execution_count": 5,
   "metadata": {
    "collapsed": false
   },
   "outputs": [
    {
     "name": "stdout",
     "output_type": "stream",
     "text": [
      "[[ 0.90969464  0.09030536]]\n",
      "[[ 0.20024288  0.79975712]]\n"
     ]
    }
   ],
   "source": [
    "print np.exp(SHMM.model_transition[0].coef - logsumexp(SHMM.model_transition[0].coef))\n",
    "print np.exp(SHMM.model_transition[1].coef - logsumexp(SHMM.model_transition[1].coef))"
   ]
  },
  {
   "cell_type": "code",
   "execution_count": 6,
   "metadata": {
    "collapsed": false
   },
   "outputs": [
    {
     "name": "stdout",
     "output_type": "stream",
     "text": [
      "[ 6.37915337]\n",
      "[ 5.50079137]\n"
     ]
    }
   ],
   "source": [
    "print SHMM.model_emissions[0][0].coef\n",
    "print SHMM.model_emissions[1][0].coef"
   ]
  },
  {
   "cell_type": "code",
   "execution_count": 7,
   "metadata": {
    "collapsed": false
   },
   "outputs": [
    {
     "name": "stdout",
     "output_type": "stream",
     "text": [
      "0.247724898392\n",
      "0.181249746545\n"
     ]
    }
   ],
   "source": [
    "print np.sqrt(SHMM.model_emissions[0][0].dispersion)\n",
    "print np.sqrt(SHMM.model_emissions[1][0].dispersion)"
   ]
  },
  {
   "cell_type": "markdown",
   "metadata": {},
   "source": [
    "## Speed data - example 2"
   ]
  },
  {
   "cell_type": "code",
   "execution_count": 8,
   "metadata": {
    "collapsed": false
   },
   "outputs": [],
   "source": [
    "SHMM = UnSupervisedIOHMM(num_states=2, max_EM_iter=1000, EM_tol=1e-2)\n",
    "SHMM.setData([speed])\n",
    "SHMM.setModels(model_emissions = [LM(est_sd = True), MNLD(est_sd=True)], model_transition=MNLP(solver='lbfgs'))\n",
    "SHMM.setInputs(covariates_initial = [], covariates_transition = [], covariates_emissions = [[],['Pacc']])\n",
    "SHMM.setOutputs([['rt'],['corr']])"
   ]
  },
  {
   "cell_type": "code",
   "execution_count": 9,
   "metadata": {
    "collapsed": false,
    "scrolled": true
   },
   "outputs": [
    {
     "name": "stdout",
     "output_type": "stream",
     "text": [
      "-530.07094384\n",
      "-529.939244278\n",
      "-529.776186184\n",
      "-529.54547185\n",
      "-529.069995999\n",
      "-528.31304595\n",
      "-526.402626139\n",
      "-521.393383479\n",
      "-503.810312627\n",
      "-445.2495061\n",
      "-349.143273989\n",
      "-309.788954651\n",
      "-305.643853908\n",
      "-302.2288246\n",
      "-303.621775584\n",
      "-303.391321307\n",
      "-303.201815561\n",
      "-303.051796457\n",
      "-302.940222273\n",
      "-302.858571108\n",
      "-302.799250042\n",
      "-302.756274685\n",
      "-302.725129589\n",
      "-302.702498896\n",
      "-302.685989067\n",
      "-302.673889091\n",
      "-302.664979995\n"
     ]
    }
   ],
   "source": [
    "SHMM.train()"
   ]
  },
  {
   "cell_type": "code",
   "execution_count": 10,
   "metadata": {
    "collapsed": false
   },
   "outputs": [
    {
     "name": "stdout",
     "output_type": "stream",
     "text": [
      "[[ 0.90698878  0.09301122]]\n",
      "[[ 0.19975855  0.80024145]]\n"
     ]
    }
   ],
   "source": [
    "print np.exp(SHMM.model_transition[0].coef - logsumexp(SHMM.model_transition[0].coef))\n",
    "print np.exp(SHMM.model_transition[1].coef - logsumexp(SHMM.model_transition[1].coef))"
   ]
  },
  {
   "cell_type": "code",
   "execution_count": 11,
   "metadata": {
    "collapsed": false
   },
   "outputs": [
    {
     "name": "stdout",
     "output_type": "stream",
     "text": [
      "[ 6.38139614]\n",
      "[[ 0.         -0.99596502]\n",
      " [ 0.         -2.42474376]]\n",
      "[ 5.50365175]\n",
      "[[ 0.         -0.22044267]\n",
      " [ 0.          0.62770599]]\n"
     ]
    }
   ],
   "source": [
    "print SHMM.model_emissions[0][0].coef\n",
    "print SHMM.model_emissions[0][1].coef\n",
    "print SHMM.model_emissions[1][0].coef\n",
    "print SHMM.model_emissions[1][1].coef"
   ]
  },
  {
   "cell_type": "code",
   "execution_count": 12,
   "metadata": {
    "collapsed": false
   },
   "outputs": [
    {
     "name": "stdout",
     "output_type": "stream",
     "text": [
      "[ 0.01509107]\n",
      "[[ 0.          0.37297992]\n",
      " [ 0.          0.79608007]]\n",
      "[ 0.01363682]\n",
      "[[ 0.          0.15889137]\n",
      " [ 0.          0.73583191]]\n"
     ]
    }
   ],
   "source": [
    "print SHMM.model_emissions[0][0].sd\n",
    "print SHMM.model_emissions[0][1].sd\n",
    "print SHMM.model_emissions[1][0].sd\n",
    "print SHMM.model_emissions[1][1].sd"
   ]
  }
 ],
 "metadata": {
  "kernelspec": {
   "display_name": "Python 2",
   "language": "python",
   "name": "python2"
  },
  "language_info": {
   "codemirror_mode": {
    "name": "ipython",
    "version": 2
   },
   "file_extension": ".py",
   "mimetype": "text/x-python",
   "name": "python",
   "nbconvert_exporter": "python",
   "pygments_lexer": "ipython2",
   "version": "2.7.11"
  }
 },
 "nbformat": 4,
 "nbformat_minor": 0
}
