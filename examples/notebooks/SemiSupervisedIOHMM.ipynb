{
 "cells": [
  {
   "cell_type": "markdown",
   "metadata": {},
   "source": [
    "This is the IOHMM model with the parameters learned in a semi-supervised way. By using some labeled data, we force the learning process in a certain direction. The unlabeled data will be estimated using EM algorithm iteratively. See notes in http://pages.cs.wisc.edu/~jerryzhu/pub/sslicml07.pdf"
   ]
  },
  {
   "cell_type": "markdown",
   "metadata": {},
   "source": [
    "# Example use of SemiSupervised_IOHMM "
   ]
  },
  {
   "cell_type": "code",
   "execution_count": 1,
   "metadata": {
    "collapsed": false
   },
   "outputs": [],
   "source": [
    "%load_ext autoreload\n",
    "%autoreload 2\n",
    "\n",
    "from __future__ import  division\n",
    "\n",
    "from copy import deepcopy\n",
    "import sys\n",
    "import warnings\n",
    "\n",
    "\n",
    "import numpy as np\n",
    "import pandas as pd\n",
    "from scipy.misc import logsumexp\n",
    "\n",
    "\n",
    "from IOHMM import SemiSupervisedIOHMM, SemiSupervisedIOHMMMapReduce\n",
    "from IOHMM import LM, MNLP, MNLD\n",
    "\n",
    "\n",
    "warnings.simplefilter(\"ignore\")"
   ]
  },
  {
   "cell_type": "markdown",
   "metadata": {},
   "source": [
    "## Speed data"
   ]
  },
  {
   "cell_type": "markdown",
   "metadata": {},
   "source": [
    "### The sequence data"
   ]
  },
  {
   "cell_type": "code",
   "execution_count": 2,
   "metadata": {
    "collapsed": false
   },
   "outputs": [
    {
     "data": {
      "text/html": [
       "<div>\n",
       "<style>\n",
       "    .dataframe thead tr:only-child th {\n",
       "        text-align: right;\n",
       "    }\n",
       "\n",
       "    .dataframe thead th {\n",
       "        text-align: left;\n",
       "    }\n",
       "\n",
       "    .dataframe tbody tr th {\n",
       "        vertical-align: top;\n",
       "    }\n",
       "</style>\n",
       "<table border=\"1\" class=\"dataframe\">\n",
       "  <thead>\n",
       "    <tr style=\"text-align: right;\">\n",
       "      <th></th>\n",
       "      <th>Unnamed: 0</th>\n",
       "      <th>rt</th>\n",
       "      <th>corr</th>\n",
       "      <th>Pacc</th>\n",
       "      <th>prev</th>\n",
       "    </tr>\n",
       "  </thead>\n",
       "  <tbody>\n",
       "    <tr>\n",
       "      <th>0</th>\n",
       "      <td>1</td>\n",
       "      <td>6.456770</td>\n",
       "      <td>cor</td>\n",
       "      <td>0.0</td>\n",
       "      <td>inc</td>\n",
       "    </tr>\n",
       "    <tr>\n",
       "      <th>1</th>\n",
       "      <td>2</td>\n",
       "      <td>5.602119</td>\n",
       "      <td>cor</td>\n",
       "      <td>0.0</td>\n",
       "      <td>cor</td>\n",
       "    </tr>\n",
       "    <tr>\n",
       "      <th>2</th>\n",
       "      <td>3</td>\n",
       "      <td>6.253829</td>\n",
       "      <td>inc</td>\n",
       "      <td>0.0</td>\n",
       "      <td>cor</td>\n",
       "    </tr>\n",
       "    <tr>\n",
       "      <th>3</th>\n",
       "      <td>4</td>\n",
       "      <td>5.451038</td>\n",
       "      <td>inc</td>\n",
       "      <td>0.0</td>\n",
       "      <td>inc</td>\n",
       "    </tr>\n",
       "    <tr>\n",
       "      <th>4</th>\n",
       "      <td>5</td>\n",
       "      <td>5.872118</td>\n",
       "      <td>inc</td>\n",
       "      <td>0.0</td>\n",
       "      <td>inc</td>\n",
       "    </tr>\n",
       "  </tbody>\n",
       "</table>\n",
       "</div>"
      ],
      "text/plain": [
       "   Unnamed: 0        rt corr  Pacc prev\n",
       "0           1  6.456770  cor   0.0  inc\n",
       "1           2  5.602119  cor   0.0  cor\n",
       "2           3  6.253829  inc   0.0  cor\n",
       "3           4  5.451038  inc   0.0  inc\n",
       "4           5  5.872118  inc   0.0  inc"
      ]
     },
     "execution_count": 2,
     "metadata": {},
     "output_type": "execute_result"
    }
   ],
   "source": [
    "speed = pd.read_csv('../data/speed.csv')\n",
    "speed.head()"
   ]
  },
  {
   "cell_type": "markdown",
   "metadata": {},
   "source": [
    "### The labeled states"
   ]
  },
  {
   "cell_type": "markdown",
   "metadata": {},
   "source": [
    "In our structure of the code, the states should be a dictionary, the key is the index in the sequence (e.g. 0, 5) and the value is a one-out-of-n code of array where the kth value is 1 if the hidden state is k. n is the number of states in total.\n",
    "\n",
    "In the following example, we assume that the \"corr\" column gives the correct hidden states. Here we assume only the first half of the sequence is labeled."
   ]
  },
  {
   "cell_type": "code",
   "execution_count": 3,
   "metadata": {
    "collapsed": false
   },
   "outputs": [
    {
     "data": {
      "text/plain": [
       "439"
      ]
     },
     "execution_count": 3,
     "metadata": {},
     "output_type": "execute_result"
    }
   ],
   "source": [
    "speed.shape[0]"
   ]
  },
  {
   "cell_type": "code",
   "execution_count": 4,
   "metadata": {
    "collapsed": false
   },
   "outputs": [],
   "source": [
    "states = {}\n",
    "corr = np.array(speed['corr'])\n",
    "for i in range(int(len(corr)/2)):\n",
    "    state = np.zeros((4,))\n",
    "    if corr[i] == 'cor':\n",
    "        states[i] = np.array([0,1,0,0])\n",
    "        speed.set_value(i, 'rt', 1)\n",
    "    else:\n",
    "        states[i] = np.array([1,0,0,0])\n",
    "        speed.set_value(i, 'rt', 0)"
   ]
  },
  {
   "cell_type": "code",
   "execution_count": 5,
   "metadata": {
    "collapsed": false
   },
   "outputs": [
    {
     "data": {
      "text/plain": [
       "439"
      ]
     },
     "execution_count": 5,
     "metadata": {},
     "output_type": "execute_result"
    }
   ],
   "source": [
    "speed.shape[0]"
   ]
  },
  {
   "cell_type": "code",
   "execution_count": 6,
   "metadata": {
    "collapsed": false
   },
   "outputs": [
    {
     "data": {
      "text/plain": [
       "219"
      ]
     },
     "execution_count": 6,
     "metadata": {},
     "output_type": "execute_result"
    }
   ],
   "source": [
    "len(states)"
   ]
  },
  {
   "cell_type": "markdown",
   "metadata": {},
   "source": [
    "## Setting up the model"
   ]
  },
  {
   "cell_type": "code",
   "execution_count": 7,
   "metadata": {
    "collapsed": false
   },
   "outputs": [],
   "source": [
    "SHMM = SemiSupervisedIOHMM(num_states=4)\n",
    "SHMM.setModels(model_emissions = [LM()], model_transition=MNLP(solver='lbfgs'))\n",
    "SHMM.setInputs(covariates_initial = [], covariates_transition = [], covariates_emissions = [[]])\n",
    "SHMM.setOutputs([['rt']])\n",
    "SHMM.setData([[speed, states]])"
   ]
  },
  {
   "cell_type": "markdown",
   "metadata": {},
   "source": [
    "## Start training"
   ]
  },
  {
   "cell_type": "code",
   "execution_count": 8,
   "metadata": {
    "collapsed": false,
    "scrolled": true
   },
   "outputs": [],
   "source": [
    "SHMM.train()"
   ]
  },
  {
   "cell_type": "markdown",
   "metadata": {},
   "source": [
    "## See coefficients"
   ]
  },
  {
   "cell_type": "code",
   "execution_count": 9,
   "metadata": {
    "collapsed": false
   },
   "outputs": [
    {
     "name": "stdout",
     "output_type": "stream",
     "text": [
      "[[ 0.42176108  0.5332247   0.02250711  0.02250711]]\n",
      "[[ 0.15113613  0.81203853  0.01763742  0.01918793]]\n"
     ]
    }
   ],
   "source": [
    "print np.exp(SHMM.model_transition[0].coef - logsumexp(SHMM.model_transition[0].coef))\n",
    "print np.exp(SHMM.model_transition[1].coef - logsumexp(SHMM.model_transition[1].coef))"
   ]
  },
  {
   "cell_type": "code",
   "execution_count": 10,
   "metadata": {
    "collapsed": false
   },
   "outputs": [
    {
     "name": "stdout",
     "output_type": "stream",
     "text": [
      "[ 0.]\n",
      "[ 1.]\n",
      "[ 6.3909629]\n",
      "[ 5.47279282]\n"
     ]
    }
   ],
   "source": [
    "print SHMM.model_emissions[0][0].coef\n",
    "print SHMM.model_emissions[1][0].coef\n",
    "print SHMM.model_emissions[2][0].coef\n",
    "print SHMM.model_emissions[3][0].coef"
   ]
  },
  {
   "cell_type": "code",
   "execution_count": 11,
   "metadata": {
    "collapsed": false
   },
   "outputs": [
    {
     "name": "stdout",
     "output_type": "stream",
     "text": [
      "0.0\n",
      "1.66533453694e-15\n",
      "0.224620610731\n",
      "0.182277323178\n"
     ]
    }
   ],
   "source": [
    "print np.sqrt(SHMM.model_emissions[0][0].dispersion)\n",
    "print np.sqrt(SHMM.model_emissions[1][0].dispersion)\n",
    "print np.sqrt(SHMM.model_emissions[2][0].dispersion)\n",
    "print np.sqrt(SHMM.model_emissions[3][0].dispersion)"
   ]
  },
  {
   "cell_type": "markdown",
   "metadata": {
    "collapsed": true
   },
   "source": [
    "## MapReduce Version"
   ]
  },
  {
   "cell_type": "code",
   "execution_count": 12,
   "metadata": {
    "collapsed": false
   },
   "outputs": [],
   "source": [
    "sc.stop()\n",
    "sc = SparkContext(appName=\"\")"
   ]
  },
  {
   "cell_type": "code",
   "execution_count": 13,
   "metadata": {
    "collapsed": true
   },
   "outputs": [],
   "source": [
    "speed = pd.read_csv('../data/speed.csv')\n",
    "states = {}\n",
    "corr = np.array(speed['corr'])\n",
    "for i in range(int(len(corr)/2)):\n",
    "    state = np.zeros((4,))\n",
    "    if corr[i] == 'cor':\n",
    "        states[i] = np.array([0,1,0,0])\n",
    "        speed.set_value(i, 'rt', 1)\n",
    "    else:\n",
    "        states[i] = np.array([1,0,0,0])\n",
    "        speed.set_value(i, 'rt', 0)"
   ]
  },
  {
   "cell_type": "code",
   "execution_count": 14,
   "metadata": {
    "collapsed": false
   },
   "outputs": [],
   "source": [
    "indexes = [(1,1), (2,1)]\n",
    "RDD = sc.parallelize(indexes)\n",
    "dfs_states = RDD.mapValues(lambda v: [speed, states])"
   ]
  },
  {
   "cell_type": "code",
   "execution_count": 15,
   "metadata": {
    "collapsed": false,
    "scrolled": true
   },
   "outputs": [
    {
     "name": "stdout",
     "output_type": "stream",
     "text": [
      "done\n"
     ]
    }
   ],
   "source": [
    "SHMM = SemiSupervisedIOHMMMapReduce(num_states=4, max_EM_iter=100, EM_tol=1e-6)\n",
    "SHMM.setModels(model_emissions = [LM()], model_transition=MNLP(solver='lbfgs'))\n",
    "SHMM.setInputs(covariates_initial = [], covariates_transition = [], covariates_emissions = [[]])\n",
    "SHMM.setOutputs([['rt']])\n",
    "SHMM.setData(dfs_states)\n",
    "SHMM.train()\n",
    "print 'done'"
   ]
  },
  {
   "cell_type": "code",
   "execution_count": 16,
   "metadata": {
    "collapsed": false
   },
   "outputs": [
    {
     "name": "stdout",
     "output_type": "stream",
     "text": [
      "[ 0.]\n",
      "[ 1.]\n",
      "[ 5.50454627]\n",
      "[ 6.02543362]\n"
     ]
    }
   ],
   "source": [
    "print SHMM.model_emissions[0][0].coef\n",
    "print SHMM.model_emissions[1][0].coef\n",
    "print SHMM.model_emissions[2][0].coef\n",
    "print SHMM.model_emissions[3][0].coef"
   ]
  },
  {
   "cell_type": "code",
   "execution_count": 17,
   "metadata": {
    "collapsed": true
   },
   "outputs": [],
   "source": [
    "sc.stop()"
   ]
  },
  {
   "cell_type": "code",
   "execution_count": null,
   "metadata": {
    "collapsed": true
   },
   "outputs": [],
   "source": []
  }
 ],
 "metadata": {
  "kernelspec": {
   "display_name": "Python 2",
   "language": "python",
   "name": "python2"
  },
  "language_info": {
   "codemirror_mode": {
    "name": "ipython",
    "version": 2
   },
   "file_extension": ".py",
   "mimetype": "text/x-python",
   "name": "python",
   "nbconvert_exporter": "python",
   "pygments_lexer": "ipython2",
   "version": "2.7.13"
  }
 },
 "nbformat": 4,
 "nbformat_minor": 0
}
