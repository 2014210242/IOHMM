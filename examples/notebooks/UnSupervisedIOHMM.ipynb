{
 "cells": [
  {
   "cell_type": "markdown",
   "metadata": {},
   "source": [
    "Acknowledgement:\n",
    "    1. The structure of the code is inspired by depmixS4: An R Package for Hidden Markov Models: https://cran.r-project.org/web/packages/depmixS4/vignettes/depmixS4.pdf\n",
    "    2. Some of the linear model codes are adapted from sklearn: http://scikit-learn.org/stable/ and statsmodel: http://statsmodels.sourceforge.net/. Some modifications have been made to these codes to realize more functionalities."
   ]
  },
  {
   "cell_type": "markdown",
   "metadata": {},
   "source": [
    "Problems with existing packages\n",
    "    1. Some of sklearn and statsmodels does not support the implementation of sample weights\n",
    "    2. Some of sklearn and statsmodels does not support l1, l2 or elasticnet regularizations\n",
    "    3. Sklearn packages does not support estimation of standard deviation of coefficients\n",
    "    4. The likelihood function of weighted linear models is not the same as the ones we need to use in IO-HMM\n",
    "    5. In the R package aformentioned, they do not support the provision of multiple sequences."
   ]
  },
  {
   "cell_type": "markdown",
   "metadata": {},
   "source": [
    "Modifications to above packages:\n",
    "    1. Implemented supervised models that supports sample weights\n",
    "    2. Supports the estimation of standard deviations of coefficients\n",
    "    3. Supports multiple regularizations (l1, l2, elastic net) in most of the supervised models. (However,  if regularization is applied, no standard deviation of the coefficients will be estimated)\n",
    "    4. Supports estimation over multiple sequences (multiple dataframes)\n",
    "    5. HMM forward-backward code was implemented at the log scale so that it is more robust to long sequences.\n",
    "    6. Supports generalized linear models with different link functions, just as statsmodel."
   ]
  },
  {
   "cell_type": "markdown",
   "metadata": {},
   "source": [
    "# Example use of UnSupervised_IOHMM"
   ]
  },
  {
   "cell_type": "code",
   "execution_count": 1,
   "metadata": {
    "collapsed": true
   },
   "outputs": [],
   "source": [
    "%load_ext autoreload\n",
    "%autoreload 2\n",
    "\n",
    "from __future__ import  division\n",
    "\n",
    "import warnings\n",
    "\n",
    "\n",
    "import numpy as np\n",
    "import pandas as pd\n",
    "\n",
    "\n",
    "from IOHMM import UnSupervisedIOHMM\n",
    "from IOHMM import UnivariateOLS, DiscreteMNL, CrossEntropyMNL\n",
    "\n",
    "\n",
    "warnings.simplefilter(\"ignore\")"
   ]
  },
  {
   "cell_type": "markdown",
   "metadata": {},
   "source": [
    "## Speed data - example 1"
   ]
  },
  {
   "cell_type": "code",
   "execution_count": 2,
   "metadata": {},
   "outputs": [
    {
     "data": {
      "text/html": [
       "<div>\n",
       "<style>\n",
       "    .dataframe thead tr:only-child th {\n",
       "        text-align: right;\n",
       "    }\n",
       "\n",
       "    .dataframe thead th {\n",
       "        text-align: left;\n",
       "    }\n",
       "\n",
       "    .dataframe tbody tr th {\n",
       "        vertical-align: top;\n",
       "    }\n",
       "</style>\n",
       "<table border=\"1\" class=\"dataframe\">\n",
       "  <thead>\n",
       "    <tr style=\"text-align: right;\">\n",
       "      <th></th>\n",
       "      <th>Unnamed: 0</th>\n",
       "      <th>rt</th>\n",
       "      <th>corr</th>\n",
       "      <th>Pacc</th>\n",
       "      <th>prev</th>\n",
       "    </tr>\n",
       "  </thead>\n",
       "  <tbody>\n",
       "    <tr>\n",
       "      <th>0</th>\n",
       "      <td>1</td>\n",
       "      <td>6.456770</td>\n",
       "      <td>cor</td>\n",
       "      <td>0.0</td>\n",
       "      <td>inc</td>\n",
       "    </tr>\n",
       "    <tr>\n",
       "      <th>1</th>\n",
       "      <td>2</td>\n",
       "      <td>5.602119</td>\n",
       "      <td>cor</td>\n",
       "      <td>0.0</td>\n",
       "      <td>cor</td>\n",
       "    </tr>\n",
       "    <tr>\n",
       "      <th>2</th>\n",
       "      <td>3</td>\n",
       "      <td>6.253829</td>\n",
       "      <td>inc</td>\n",
       "      <td>0.0</td>\n",
       "      <td>cor</td>\n",
       "    </tr>\n",
       "    <tr>\n",
       "      <th>3</th>\n",
       "      <td>4</td>\n",
       "      <td>5.451038</td>\n",
       "      <td>inc</td>\n",
       "      <td>0.0</td>\n",
       "      <td>inc</td>\n",
       "    </tr>\n",
       "    <tr>\n",
       "      <th>4</th>\n",
       "      <td>5</td>\n",
       "      <td>5.872118</td>\n",
       "      <td>inc</td>\n",
       "      <td>0.0</td>\n",
       "      <td>inc</td>\n",
       "    </tr>\n",
       "  </tbody>\n",
       "</table>\n",
       "</div>"
      ],
      "text/plain": [
       "   Unnamed: 0        rt corr  Pacc prev\n",
       "0           1  6.456770  cor   0.0  inc\n",
       "1           2  5.602119  cor   0.0  cor\n",
       "2           3  6.253829  inc   0.0  cor\n",
       "3           4  5.451038  inc   0.0  inc\n",
       "4           5  5.872118  inc   0.0  inc"
      ]
     },
     "execution_count": 2,
     "metadata": {},
     "output_type": "execute_result"
    }
   ],
   "source": [
    "speed = pd.read_csv('../data/speed.csv')\n",
    "speed.head()"
   ]
  },
  {
   "cell_type": "markdown",
   "metadata": {},
   "source": [
    "## Setting up the model"
   ]
  },
  {
   "cell_type": "code",
   "execution_count": 3,
   "metadata": {
    "collapsed": true
   },
   "outputs": [],
   "source": [
    "SHMM = UnSupervisedIOHMM(num_states=2, max_EM_iter=200, EM_tol=1e-6)\n",
    "SHMM.set_models(model_emissions = [UnivariateOLS()], \n",
    "                model_transition=CrossEntropyMNL(reg_method='l2', solver='lbfgs'),\n",
    "                model_initial=CrossEntropyMNL(reg_method='l2', solver='lbfgs'))\n",
    "SHMM.set_inputs(covariates_initial = [], covariates_transition = [], covariates_emissions = [[]])\n",
    "SHMM.set_outputs([['rt']])\n",
    "SHMM.set_data([speed])"
   ]
  },
  {
   "cell_type": "code",
   "execution_count": 4,
   "metadata": {
    "collapsed": true,
    "scrolled": true
   },
   "outputs": [],
   "source": [
    "SHMM.train()"
   ]
  },
  {
   "cell_type": "markdown",
   "metadata": {},
   "source": [
    "## See the coefficients"
   ]
  },
  {
   "cell_type": "code",
   "execution_count": 5,
   "metadata": {},
   "outputs": [
    {
     "name": "stdout",
     "output_type": "stream",
     "text": [
      "[ 5.51036534]\n",
      "[ 6.38505427]\n"
     ]
    }
   ],
   "source": [
    "print SHMM.model_emissions[0][0].coef\n",
    "print SHMM.model_emissions[1][0].coef"
   ]
  },
  {
   "cell_type": "code",
   "execution_count": 6,
   "metadata": {},
   "outputs": [
    {
     "name": "stdout",
     "output_type": "stream",
     "text": [
      "0.191753834053\n",
      "0.24415881604\n"
     ]
    }
   ],
   "source": [
    "print np.sqrt(SHMM.model_emissions[0][0].dispersion)\n",
    "print np.sqrt(SHMM.model_emissions[1][0].dispersion)"
   ]
  },
  {
   "cell_type": "code",
   "execution_count": 7,
   "metadata": {},
   "outputs": [
    {
     "name": "stdout",
     "output_type": "stream",
     "text": [
      "[[ 0.88351271  0.11648729]]\n",
      "[[ 0.08433109  0.91566891]]\n"
     ]
    }
   ],
   "source": [
    "print np.exp(SHMM.model_transition[0].predict_log_proba(np.array([[]])))\n",
    "print np.exp(SHMM.model_transition[1].predict_log_proba(np.array([[]])))"
   ]
  },
  {
   "cell_type": "markdown",
   "metadata": {},
   "source": [
    "## Speed data - example 2"
   ]
  },
  {
   "cell_type": "code",
   "execution_count": 8,
   "metadata": {
    "collapsed": true
   },
   "outputs": [],
   "source": [
    "SHMM = UnSupervisedIOHMM(num_states=2, max_EM_iter=200, EM_tol=1e-6)\n",
    "SHMM.set_models(model_emissions = [UnivariateOLS(est_stderr=True), \n",
    "                                   DiscreteMNL(reg_method='l2', solver='lbfgs')], \n",
    "                model_transition=CrossEntropyMNL(reg_method='l2', solver='lbfgs'),\n",
    "                model_initial=CrossEntropyMNL(reg_method='l2', solver='lbfgs'))\n",
    "SHMM.set_inputs(covariates_initial = [], covariates_transition = [], covariates_emissions = [[],['Pacc']])\n",
    "SHMM.set_outputs([['rt'],['corr']])\n",
    "SHMM.set_data([speed])"
   ]
  },
  {
   "cell_type": "code",
   "execution_count": 9,
   "metadata": {
    "collapsed": true,
    "scrolled": true
   },
   "outputs": [],
   "source": [
    "SHMM.train()"
   ]
  },
  {
   "cell_type": "code",
   "execution_count": 10,
   "metadata": {},
   "outputs": [
    {
     "name": "stdout",
     "output_type": "stream",
     "text": [
      "[ 6.38764086]\n",
      "[[-1.13692639 -2.17390907]]\n",
      "[ 5.51390441]\n",
      "[[-0.21848254  0.57762286]]\n"
     ]
    }
   ],
   "source": [
    "print SHMM.model_emissions[0][0].coef\n",
    "print SHMM.model_emissions[0][1].coef\n",
    "print SHMM.model_emissions[1][0].coef\n",
    "print SHMM.model_emissions[1][1].coef"
   ]
  },
  {
   "cell_type": "code",
   "execution_count": 11,
   "metadata": {},
   "outputs": [
    {
     "name": "stdout",
     "output_type": "stream",
     "text": [
      "[ 0.01498921]\n",
      "None\n",
      "[ 0.01433147]\n",
      "None\n"
     ]
    }
   ],
   "source": [
    "print SHMM.model_emissions[0][0].stderr\n",
    "print SHMM.model_emissions[0][1].stderr\n",
    "print SHMM.model_emissions[1][0].stderr\n",
    "print SHMM.model_emissions[1][1].stderr"
   ]
  },
  {
   "cell_type": "code",
   "execution_count": 12,
   "metadata": {},
   "outputs": [
    {
     "name": "stdout",
     "output_type": "stream",
     "text": [
      "[[ 0.91491045  0.08508955]]\n",
      "[[ 0.11590526  0.88409474]]\n"
     ]
    }
   ],
   "source": [
    "print np.exp(SHMM.model_transition[0].predict_log_proba(np.array([[]])))\n",
    "print np.exp(SHMM.model_transition[1].predict_log_proba(np.array([[]])))"
   ]
  }
 ],
 "metadata": {
  "kernelspec": {
   "display_name": "Python 2",
   "language": "python",
   "name": "python2"
  },
  "language_info": {
   "codemirror_mode": {
    "name": "ipython",
    "version": 2
   },
   "file_extension": ".py",
   "mimetype": "text/x-python",
   "name": "python",
   "nbconvert_exporter": "python",
   "pygments_lexer": "ipython2",
   "version": "2.7.13"
  }
 },
 "nbformat": 4,
 "nbformat_minor": 1
}
